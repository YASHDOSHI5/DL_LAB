{
  "nbformat": 4,
  "nbformat_minor": 0,
  "metadata": {
    "colab": {
      "name": "Copy of pytorch-fashion-mnist-lenet5-ensemble.ipynb",
      "provenance": [],
      "collapsed_sections": []
    },
    "kernelspec": {
      "name": "python3",
      "display_name": "Python 3"
    },
    "accelerator": "GPU"
  },
  "cells": [
    {
      "cell_type": "markdown",
      "metadata": {
        "id": "OpNb1uAle3Ri"
      },
      "source": [
        "## Simple ensemble model with LeNet5 structure\n",
        "#### with basic CNN structure LeNet5, let's make a super simple version of ensemble\n",
        "I refered to this (https://discuss.pytorch.org/t/combining-trained-models-in-pytorch/28383/2)"
      ]
    },
    {
      "cell_type": "code",
      "metadata": {
        "id": "zadCpUu0LHV7",
        "trusted": true
      },
      "source": [
        "import os\n",
        "import numpy as np\n",
        "import matplotlib.pyplot as plt\n",
        "import pandas as pd\n",
        "import torch\n",
        "import torch.nn as nn\n",
        "import torchvision\n",
        "from torchvision import transforms\n",
        "from torch.utils.data import Dataset, DataLoader\n",
        "from PIL import Image\n",
        "import copy\n",
        "import tqdm\n",
        "\n",
        "%matplotlib inline"
      ],
      "execution_count": null,
      "outputs": []
    },
    {
      "cell_type": "code",
      "metadata": {
        "id": "i5ORL8JrOL-G",
        "trusted": true
      },
      "source": [
        "# make train & test dataset\n",
        "class FashionMNIST(Dataset):\n",
        "    def __init__(self, file, dir, transform=None):\n",
        "        self.transform = transform\n",
        "        fashion_df = pd.read_csv(os.path.join(dir, file))\n",
        "        self.labels = fashion_df.label.values\n",
        "        self.images = fashion_df.iloc[:, 1:].values.astype('uint8').reshape(-1, 28, 28)\n",
        "\n",
        "    def __len__(self):\n",
        "        return len(self.images)\n",
        "\n",
        "    def __getitem__(self, idx):\n",
        "        label = self.labels[idx]\n",
        "        img = Image.fromarray(self.images[idx])\n",
        "        if self.transform:\n",
        "            img = self.transform(img)\n",
        "        return img, label\n",
        "    \n",
        "# aply transforms to return img as tensor type\n",
        "train_transform = transforms.Compose([\n",
        "    transforms.RandomHorizontalFlip(),\n",
        "    transforms.ToTensor()\n",
        "])\n",
        "\n",
        "test_transform = transforms.Compose([\n",
        "    transforms.ToTensor()\n",
        "])\n",
        "\n",
        "train_path = '../input'\n",
        "train_file = 'fashion-mnist_train.csv'\n",
        "test_path = '../input'\n",
        "test_file = 'fashion-mnist_test.csv'\n",
        "train_dataset = FashionMNIST(train_file, train_path, transform = train_transform)\n",
        "test_dataset = FashionMNIST(test_file, test_path, transform = test_transform)\n",
        "\n",
        "# number of classes : 10\n",
        "num_classes = len(set(train_dataset.labels))"
      ],
      "execution_count": null,
      "outputs": []
    },
    {
      "cell_type": "code",
      "metadata": {
        "id": "9ZmLKNGtOlzS",
        "trusted": true
      },
      "source": [
        "# make dataloader\n",
        "train_loader = DataLoader(train_dataset, batch_size = 32, shuffle = True, num_workers=4)\n",
        "test_loader = DataLoader(test_dataset, batch_size = 32, shuffle = False, num_workers=4)"
      ],
      "execution_count": null,
      "outputs": []
    },
    {
      "cell_type": "code",
      "metadata": {
        "id": "pkpZlVrFPK8G",
        "colab": {
          "base_uri": "https://localhost:8080/",
          "height": 409
        },
        "trusted": true,
        "outputId": "cca2a146-16a9-41fd-f620-820d6aad7dad"
      },
      "source": [
        "# check data loader works well\n",
        "samples, labels = iter(train_loader).next()\n",
        "plt.figure(figsize=(8,16))\n",
        "grid_imgs = torchvision.utils.make_grid(samples[:24])\n",
        "np_grid_imgs = grid_imgs.numpy()\n",
        "plt.imshow(np.transpose(np_grid_imgs, (1,2,0)))"
      ],
      "execution_count": null,
      "outputs": [
        {
          "output_type": "execute_result",
          "data": {
            "text/plain": [
              "<matplotlib.image.AxesImage at 0x7fe0fa78d710>"
            ]
          },
          "metadata": {
            "tags": []
          },
          "execution_count": 4
        },
        {
          "output_type": "display_data",
          "data": {
            "text/plain": [
              "<Figure size 576x1152 with 1 Axes>"
            ],
            "image/png": "[encoded data removed]"
          },
          "metadata": {
            "tags": []
          }
        }
      ]
    },
    {
      "cell_type": "markdown",
      "metadata": {
        "id": "ic97E_3_e3Rx"
      },
      "source": [
        "### The simple structure of LeNet5\n",
        "#### 2 Conv layers and 2 FC layers\n",
        "![image.png](attachment:image.png)"
      ]
    },
    {
      "cell_type": "code",
      "metadata": {
        "id": "vI-tJy52V033",
        "trusted": true
      },
      "source": [
        "# LeNet5 structure\n",
        "class LeNet5(nn.Module):\n",
        "    def __init__(self, num_classes):\n",
        "        super(LeNet5, self).__init__()\n",
        "        # 6 @ 28x28\n",
        "        self.conv1 = nn.Sequential(\n",
        "            # Lenet's first conv layer is 3x32x32, squeeze color channels into 1 and pad 2\n",
        "            nn.Conv2d(1, 6, kernel_size=5, stride=1, padding=2),\n",
        "            nn.ReLU(),\n",
        "            nn.MaxPool2d(kernel_size =2, stride = 2)\n",
        "        )\n",
        "        # 16 @ 10x10\n",
        "        self.conv2 = nn.Sequential(\n",
        "            nn.Conv2d(6, 16, kernel_size =5, stride=1, padding=0),\n",
        "            nn.ReLU(),\n",
        "            nn.MaxPool2d(kernel_size =2, stride = 2)\n",
        "        )\n",
        "    \n",
        "        self.fc1 = nn.Sequential(\n",
        "            nn.Linear(16*5*5, 120),\n",
        "            nn.ReLU()\n",
        "        )\n",
        "        self.fc2 = nn.Sequential(\n",
        "            nn.Linear(120, 84),\n",
        "            nn.ReLU()\n",
        "        )\n",
        "        self.classifier = nn.Linear(84, num_classes)\n",
        "    \n",
        "    def forward(self, x):\n",
        "        x = self.conv1(x)\n",
        "        x = self.conv2(x)\n",
        "        x = x.view(-1, 16*5*5)\n",
        "        x = self.fc1(x)\n",
        "        x = self.fc2(x)\n",
        "        x = self.classifier(x)\n",
        "        return x\n",
        "    "
      ],
      "execution_count": null,
      "outputs": []
    },
    {
      "cell_type": "code",
      "metadata": {
        "trusted": true,
        "id": "Ab35uxQ5e3Rz"
      },
      "source": [
        "# Ensemble model\n",
        "class LeNet5Ensemble(nn.Module):\n",
        "    def __init__(self, num, num_classes, device):\n",
        "        super(LeNet5Ensemble,self).__init__()\n",
        "        # you should use nn.ModuleList. Optimizer doesn't detect python list as parameters\n",
        "        self.models = nn.ModuleList([LeNet5(num_classes).to(device) for _ in range(num)])\n",
        "        \n",
        "    def forward(self, x):\n",
        "        # it is super simple. just forward num_ models and concat it.\n",
        "        output = torch.zeros([x.size(0), num_classes]).to(device)\n",
        "        for model in self.models:\n",
        "            output += model(x)\n",
        "        return output"
      ],
      "execution_count": null,
      "outputs": []
    },
    {
      "cell_type": "code",
      "metadata": {
        "id": "VEtpYKYVi2NU",
        "trusted": true
      },
      "source": [
        "# function which calculates accuracy\n",
        "def accuracy(output, labels):\n",
        "    pred = torch.argmax(output, dim=1)\n",
        "    correct = pred.eq(labels)\n",
        "    return torch.mean(correct.float())"
      ],
      "execution_count": null,
      "outputs": []
    },
    {
      "cell_type": "code",
      "metadata": {
        "id": "vaYieN6GV7Ms",
        "trusted": true
      },
      "source": [
        "device = 'cuda:0' if torch.cuda.is_available() else 'cpu'"
      ],
      "execution_count": null,
      "outputs": []
    },
    {
      "cell_type": "markdown",
      "metadata": {
        "id": "6nobbWLEe3R0"
      },
      "source": [
        "### One LeNet5 Model"
      ]
    },
    {
      "cell_type": "code",
      "metadata": {
        "id": "FqBSt_BrW-VG",
        "colab": {
          "base_uri": "https://localhost:8080/",
          "height": 845
        },
        "trusted": true,
        "outputId": "4621888e-9f80-47d9-ea5a-9da04d16058a"
      },
      "source": [
        "# One LeNet5 network\n",
        "\n",
        "model = LeNet5(num_classes)\n",
        "model = model.to(device)\n",
        "criterion = nn.CrossEntropyLoss()\n",
        "optimizer = torch.optim.Adam(model.parameters(), lr=0.001)\n",
        "scheduler = torch.optim.lr_scheduler.MultiStepLR(optimizer, milestones=[5000,10000,15000], gamma=0.5)\n",
        "\n",
        "total_loss, total_acc = 0,0\n",
        "loss_list = []\n",
        "acc_list = []\n",
        "\n",
        "epochs = 10\n",
        "itr = 1\n",
        "p_itr = 1000\n",
        "\n",
        "# start training\n",
        "model.train()\n",
        "for epoch in range(epochs):\n",
        "    for samples, labels in train_loader:\n",
        "        samples, labels = samples.to(device), labels.to(device)\n",
        "        optimizer.zero_grad()\n",
        "        output = model(samples)\n",
        "        loss = criterion(output, labels)\n",
        "        loss.backward()\n",
        "        optimizer.step()\n",
        "        total_loss += loss.item()\n",
        "        total_acc += accuracy(output, labels)\n",
        "        scheduler.step()\n",
        "    \n",
        "        if itr%p_itr == 0:\n",
        "            print('[Epoch {}/{}] Iteration {} -> Train Loss: {:.4f}, Accuracy: {:.3f}'.format(epoch+1, epochs, itr, total_loss/p_itr, total_acc/p_itr))\n",
        "            loss_list.append(total_loss/p_itr)\n",
        "            acc_list.append(total_acc/p_itr)\n",
        "            total_loss, total_acc = 0,0\n",
        "        itr+=1\n",
        "      "
      ],
      "execution_count": null,
      "outputs": [
        {
          "output_type": "stream",
          "text": [
            "[Epoch 1/10] Iteration 1000 -> Train Loss: 0.7410, Accuracy: 0.721\n",
            "[Epoch 2/10] Iteration 2000 -> Train Loss: 0.4563, Accuracy: 0.832\n",
            "[Epoch 2/10] Iteration 3000 -> Train Loss: 0.3871, Accuracy: 0.859\n",
            "[Epoch 3/10] Iteration 4000 -> Train Loss: 0.3515, Accuracy: 0.871\n",
            "[Epoch 3/10] Iteration 5000 -> Train Loss: 0.3317, Accuracy: 0.878\n",
            "[Epoch 4/10] Iteration 6000 -> Train Loss: 0.3015, Accuracy: 0.890\n",
            "[Epoch 4/10] Iteration 7000 -> Train Loss: 0.2895, Accuracy: 0.893\n",
            "[Epoch 5/10] Iteration 8000 -> Train Loss: 0.2820, Accuracy: 0.896\n",
            "[Epoch 5/10] Iteration 9000 -> Train Loss: 0.2749, Accuracy: 0.898\n",
            "[Epoch 6/10] Iteration 10000 -> Train Loss: 0.2652, Accuracy: 0.901\n",
            "[Epoch 6/10] Iteration 11000 -> Train Loss: 0.2528, Accuracy: 0.906\n",
            "[Epoch 7/10] Iteration 12000 -> Train Loss: 0.2471, Accuracy: 0.909\n",
            "[Epoch 7/10] Iteration 13000 -> Train Loss: 0.2440, Accuracy: 0.909\n",
            "[Epoch 8/10] Iteration 14000 -> Train Loss: 0.2388, Accuracy: 0.912\n",
            "[Epoch 8/10] Iteration 15000 -> Train Loss: 0.2387, Accuracy: 0.910\n",
            "[Epoch 9/10] Iteration 16000 -> Train Loss: 0.2278, Accuracy: 0.915\n",
            "[Epoch 10/10] Iteration 17000 -> Train Loss: 0.2278, Accuracy: 0.916\n",
            "[Epoch 10/10] Iteration 18000 -> Train Loss: 0.2256, Accuracy: 0.918\n"
          ],
          "name": "stdout"
        }
      ]
    },
    {
      "cell_type": "code",
      "metadata": {
        "id": "yiH-5Dk5XC3i",
        "colab": {
          "base_uri": "https://localhost:8080/",
          "height": 281
        },
        "trusted": true,
        "outputId": "e2b110a6-4ae8-4332-8edb-632ab2ae7d4a"
      },
      "source": [
        "# plot training loss and accuracy\n",
        "\n",
        "fig, ax1 = plt.subplots()\n",
        "ax2 = ax1.twinx()\n",
        "ax1.plot(loss_list, label='loss', color = 'g')\n",
        "ax2.plot(acc_list, label='accuracy', color = 'b')\n",
        "ax1.set_ylabel('loss')\n",
        "ax2.set_ylabel('accuracy')\n",
        "plt.title('One LeNet5 training loss and accuracy')\n",
        "plt.show()"
      ],
      "execution_count": null,
      "outputs": [
        {
          "output_type": "display_data",
          "data": {
            "text/plain": [
              "<Figure size 432x288 with 2 Axes>"
            ],
            "image/png": "[encoded data removed]"
          },
          "metadata": {
            "tags": []
          }
        }
      ]
    },
    {
      "cell_type": "code",
      "metadata": {
        "id": "agnMUTHHYBpS",
        "colab": {
          "base_uri": "https://localhost:8080/",
          "height": 35
        },
        "trusted": true,
        "outputId": "e2a08ed3-7521-4eb6-ea33-35b7577cd681"
      },
      "source": [
        "# test \n",
        "\n",
        "model.eval()\n",
        "test_acc = 0.0\n",
        "for samples, labels in test_loader:\n",
        "    with torch.no_grad():\n",
        "        samples, labels = samples.to(device), labels.to(device)\n",
        "        output = model(samples)\n",
        "        test_acc += accuracy(output, labels)\n",
        "\n",
        "print('Accuracy of the network on {} test images: {}%'.format(len(test_dataset), round(test_acc.item()*100.0/len(test_loader), 2)))"
      ],
      "execution_count": null,
      "outputs": [
        {
          "output_type": "stream",
          "text": [
            "Accuracy of the network on 10000 test images: 90.78%\n"
          ],
          "name": "stdout"
        }
      ]
    },
    {
      "cell_type": "markdown",
      "metadata": {
        "id": "pBaj7k33e3R5"
      },
      "source": [
        "### Ensemble model with 10 independent LeNet5 models"
      ]
    },
    {
      "cell_type": "code",
      "metadata": {
        "trusted": true,
        "id": "LxxT4KKfe3R5",
        "outputId": "0ac15c69-b956-4802-8413-cf187f0aa74b"
      },
      "source": [
        "# Ten LeNet5 network\n",
        "num_models = 10\n",
        "\n",
        "ensemble_model = LeNet5Ensemble(num_models, num_classes, device)\n",
        "ensemble_model = ensemble_model.to(device)\n",
        "criterion = nn.CrossEntropyLoss()\n",
        "optimizer = torch.optim.Adam(ensemble_model.parameters(), lr=0.001)\n",
        "scheduler = torch.optim.lr_scheduler.MultiStepLR(optimizer, milestones=[5000,10000,15000], gamma=0.5)\n",
        "\n",
        "total_loss, total_acc = 0,0\n",
        "loss_list = []\n",
        "acc_list = []\n",
        "\n",
        "epochs = 10\n",
        "itr = 1\n",
        "p_itr = 1000\n",
        "\n",
        "# start training\n",
        "ensemble_model.train()\n",
        "for epoch in range(epochs):\n",
        "    for samples, labels in train_loader:\n",
        "        samples, labels = samples.to(device), labels.to(device)\n",
        "        optimizer.zero_grad()\n",
        "        output = ensemble_model(samples)\n",
        "        loss = criterion(output, labels)\n",
        "        loss.backward()\n",
        "        optimizer.step()\n",
        "        total_loss += loss.item()\n",
        "        total_acc += accuracy(output, labels)\n",
        "        scheduler.step()\n",
        "    \n",
        "        if itr%p_itr == 0:\n",
        "            print('[Epoch {}/{}] Iteration {} -> Train Loss: {:.4f}, Accuracy: {:.3f}'.format(epoch+1, epochs, itr, total_loss/p_itr, total_acc/p_itr))\n",
        "            loss_list.append(total_loss/p_itr)\n",
        "            acc_list.append(total_acc/p_itr)\n",
        "            total_loss, total_acc = 0,0\n",
        "        itr+=1\n",
        "      \n"
      ],
      "execution_count": null,
      "outputs": [
        {
          "output_type": "stream",
          "text": [
            "[Epoch 1/10] Iteration 1000 -> Train Loss: 0.5653, Accuracy: 0.790\n",
            "[Epoch 2/10] Iteration 2000 -> Train Loss: 0.3530, Accuracy: 0.870\n",
            "[Epoch 2/10] Iteration 3000 -> Train Loss: 0.3070, Accuracy: 0.887\n",
            "[Epoch 3/10] Iteration 4000 -> Train Loss: 0.2860, Accuracy: 0.897\n",
            "[Epoch 3/10] Iteration 5000 -> Train Loss: 0.2622, Accuracy: 0.904\n",
            "[Epoch 4/10] Iteration 6000 -> Train Loss: 0.2272, Accuracy: 0.915\n",
            "[Epoch 4/10] Iteration 7000 -> Train Loss: 0.2103, Accuracy: 0.923\n",
            "[Epoch 5/10] Iteration 8000 -> Train Loss: 0.2045, Accuracy: 0.925\n",
            "[Epoch 5/10] Iteration 9000 -> Train Loss: 0.1966, Accuracy: 0.926\n",
            "[Epoch 6/10] Iteration 10000 -> Train Loss: 0.1813, Accuracy: 0.933\n",
            "[Epoch 6/10] Iteration 11000 -> Train Loss: 0.1680, Accuracy: 0.939\n",
            "[Epoch 7/10] Iteration 12000 -> Train Loss: 0.1537, Accuracy: 0.944\n",
            "[Epoch 7/10] Iteration 13000 -> Train Loss: 0.1513, Accuracy: 0.944\n",
            "[Epoch 8/10] Iteration 14000 -> Train Loss: 0.1435, Accuracy: 0.948\n",
            "[Epoch 8/10] Iteration 15000 -> Train Loss: 0.1416, Accuracy: 0.948\n",
            "[Epoch 9/10] Iteration 16000 -> Train Loss: 0.1237, Accuracy: 0.955\n",
            "[Epoch 10/10] Iteration 17000 -> Train Loss: 0.1213, Accuracy: 0.956\n",
            "[Epoch 10/10] Iteration 18000 -> Train Loss: 0.1140, Accuracy: 0.959\n"
          ],
          "name": "stdout"
        }
      ]
    },
    {
      "cell_type": "code",
      "metadata": {
        "trusted": true,
        "id": "ZkL-YmCLe3R6",
        "outputId": "d1da0405-5b44-46a8-88d2-45ec8ce5c4b6"
      },
      "source": [
        "# plot training loss and accuracy\n",
        "\n",
        "fig, ax1 = plt.subplots()\n",
        "ax2 = ax1.twinx()\n",
        "ax1.plot(loss_list, label='loss', color = 'g')\n",
        "ax2.plot(acc_list, label='accuracy', color = 'b')\n",
        "ax1.set_ylabel('loss')\n",
        "ax2.set_ylabel('accuracy')\n",
        "plt.title('10 LeNet5 Ensemble training loss and accuracy')\n",
        "plt.show()"
      ],
      "execution_count": null,
      "outputs": [
        {
          "output_type": "display_data",
          "data": {
            "text/plain": [
              "<Figure size 432x288 with 2 Axes>"
            ],
            "image/png": "[encoded data removed]"
          },
          "metadata": {
            "tags": []
          }
        }
      ]
    },
    {
      "cell_type": "code",
      "metadata": {
        "trusted": true,
        "id": "u5ZOqWnHe3R7",
        "outputId": "d6dfecb8-db5f-4a3e-9cc9-a81f1216e9c9"
      },
      "source": [
        "# test \n",
        "\n",
        "ensemble_model.eval()\n",
        "test_acc = 0.0\n",
        "for samples, labels in test_loader:\n",
        "    with torch.no_grad():\n",
        "        samples, labels = samples.to(device), labels.to(device)\n",
        "        output = ensemble_model(samples)\n",
        "        test_acc += accuracy(output, labels)\n",
        "\n",
        "print('Accuracy of the network on {} test images: {}%'.format(len(test_dataset), round(test_acc.item()*100.0/len(test_loader), 2)))"
      ],
      "execution_count": null,
      "outputs": [
        {
          "output_type": "stream",
          "text": [
            "Accuracy of the network on 10000 test images: 93.22%\n"
          ],
          "name": "stdout"
        }
      ]
    },
    {
      "cell_type": "markdown",
      "metadata": {
        "id": "iYmkQ-lne3R8"
      },
      "source": [
        "## Conclusion\n",
        "As you can see, it is just a simple version of ensemble.\n",
        "\n",
        "But it shows higher accuracy ( bonus 2.4%p, from 90.78% -> 93.22% )\n",
        "\n",
        "So it is worth you to try ensemble model !!\n",
        "\n",
        "I always welcome all kinds of feedbacks."
      ]
    }
  ]
}