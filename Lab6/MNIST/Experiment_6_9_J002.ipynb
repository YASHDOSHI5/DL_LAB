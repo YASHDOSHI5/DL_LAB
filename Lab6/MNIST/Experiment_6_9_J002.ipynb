{
  "nbformat": 4,
  "nbformat_minor": 0,
  "metadata": {
    "kernelspec": {
      "language": "python",
      "display_name": "Python 3",
      "name": "python3"
    },
    "language_info": {
      "pygments_lexer": "ipython3",
      "nbconvert_exporter": "python",
      "version": "3.6.4",
      "file_extension": ".py",
      "codemirror_mode": {
        "name": "ipython",
        "version": 3
      },
      "name": "python",
      "mimetype": "text/x-python"
    },
    "colab": {
      "name": "Copy of mnist-vgg19.ipynb",
      "provenance": [],
      "collapsed_sections": []
    }
  },
  "cells": [
    {
      "cell_type": "code",
      "metadata": {
        "_uuid": "8f2839f25d086af736a60e9eeb907d3b93b6e0e5",
        "_cell_guid": "b1076dfc-b9ad-4769-8c92-a6c4dae69d19",
        "trusted": true,
        "id": "bEQwXaCvf-gI"
      },
      "source": [
        "# This Python 3 environment comes with many helpful analytics libraries installed\n",
        "# It is defined by the kaggle/python docker image: https://github.com/kaggle/docker-python\n",
        "# For example, here's several helpful packages to load in \n",
        "\n",
        "import numpy as np # linear algebra\n",
        "import pandas as pd # data processing, CSV file I/O (e.g. pd.read_csv)\n",
        "\n",
        "import warnings\n",
        "warnings.filterwarnings('ignore')\n",
        "# Input data files are available in the \"../input/\" directory.\n",
        "# For example, running this (by clicking run or pressing Shift+Enter) will list all files under the input directory\n",
        "\n",
        "import os\n",
        "# for dirname, _, filenames in os.walk('/kaggle/input'):\n",
        "#     for filename in filenames:\n",
        "#         print(os.path.join(dirname, filename))\n",
        "os.listdir('../input/digit-recognizer')\n",
        "# Any results you write to the current directory are saved as output."
      ],
      "execution_count": null,
      "outputs": []
    },
    {
      "cell_type": "code",
      "metadata": {
        "_uuid": "d629ff2d2480ee46fbb7e2d37f6b5fab8052498a",
        "_cell_guid": "79c7e3d0-c299-4dcb-8224-4455121ee9b0",
        "trusted": true,
        "id": "iHEDL65af-gV"
      },
      "source": [
        "PATH = '../input/digit-recognizer'\n",
        "\n",
        "df_train = pd.read_csv(os.path.join(PATH, 'train.csv'))\n",
        "train_y = df_train['label'].values\n",
        "train_x = df_train.drop(['label'], axis=1).values\n",
        "\n",
        "\n",
        "df_test = pd.read_csv(os.path.join(PATH, 'test.csv'))\n",
        "test_x = df_test.values\n",
        "\n",
        "\n",
        "print(train_x.shape)\n",
        "print(train_y.shape)\n",
        "print(test_x.shape)"
      ],
      "execution_count": null,
      "outputs": []
    },
    {
      "cell_type": "code",
      "metadata": {
        "trusted": true,
        "id": "P33njjKTf-gW"
      },
      "source": [
        "IMG_SIZE = 32"
      ],
      "execution_count": null,
      "outputs": []
    },
    {
      "cell_type": "code",
      "metadata": {
        "trusted": true,
        "id": "PoWu0T2Af-gW"
      },
      "source": [
        "# resize\n",
        "import cv2\n",
        "\n",
        "def resize(img_array):\n",
        "    tmp = np.empty((img_array.shape[0], IMG_SIZE, IMG_SIZE))\n",
        "\n",
        "    for i in range(len(img_array)):\n",
        "        img = img_array[i].reshape(28, 28).astype('uint8')\n",
        "        img = cv2.resize(img, (IMG_SIZE, IMG_SIZE))\n",
        "        img = img.astype('float32')/255\n",
        "        tmp[i] = img\n",
        "        \n",
        "    return tmp\n",
        "\n",
        "train_x_resize = resize(train_x)\n",
        "test_x_resize = resize(test_x)"
      ],
      "execution_count": null,
      "outputs": []
    },
    {
      "cell_type": "code",
      "metadata": {
        "trusted": true,
        "id": "ErUWjJLxf-gX"
      },
      "source": [
        "train_x_final = np.stack((train_x_resize,)*3, axis=-1)\n",
        "test_x_final = np.stack((test_x_resize,)*3, axis=-1)\n",
        "print(train_x_final.shape)\n",
        "print(test_x_final.shape)"
      ],
      "execution_count": null,
      "outputs": []
    },
    {
      "cell_type": "code",
      "metadata": {
        "trusted": true,
        "id": "CwBclkiYf-gX"
      },
      "source": [
        "from keras.utils import to_categorical\n",
        "train_y_final = to_categorical(train_y, num_classes=10)\n",
        "print(train_y_final.shape)"
      ],
      "execution_count": null,
      "outputs": []
    },
    {
      "cell_type": "code",
      "metadata": {
        "trusted": true,
        "id": "WFJUYijSf-gY"
      },
      "source": [
        "# models \n",
        "from keras.models import Sequential\n",
        "from keras.applications import VGG19\n",
        "from keras.layers import Dense, Flatten\n",
        "\n",
        "vgg19 = VGG19(weights = 'imagenet', \n",
        "              include_top = False,\n",
        "              input_shape=(IMG_SIZE, IMG_SIZE, 3)\n",
        "              )\n",
        "\n",
        "model = Sequential()\n",
        "model.add(vgg19)\n",
        "model.add(Flatten())\n",
        "model.add(Dense(10, activation='softmax'))\n",
        "model.compile(loss='categorical_crossentropy', \n",
        "              optimizer='sgd', \n",
        "              metrics=['accuracy'])\n",
        "\n",
        "model.summary()"
      ],
      "execution_count": null,
      "outputs": []
    },
    {
      "cell_type": "code",
      "metadata": {
        "trusted": true,
        "id": "ii4rjHNLf-gY"
      },
      "source": [
        "from sklearn.model_selection import train_test_split\n",
        "x_train, x_test, y_train, y_test = train_test_split(train_x_final, train_y_final, test_size=0.2, random_state=2019)\n",
        "print(x_train.shape)\n",
        "print(x_test.shape)\n",
        "print(y_train.shape)\n",
        "print(y_test.shape)"
      ],
      "execution_count": null,
      "outputs": []
    },
    {
      "cell_type": "code",
      "metadata": {
        "trusted": true,
        "id": "vRqkl7bFf-gY"
      },
      "source": [
        "# callback\n",
        "from keras.callbacks import ModelCheckpoint, EarlyStopping\n",
        "es = EarlyStopping(monitor='val_acc', verbose=1, patience=5)\n",
        "mc = ModelCheckpoint(filepath='mnist-vgg19.h5', verbose=1, monitor='val_acc')\n",
        "cb = [es, mc]"
      ],
      "execution_count": null,
      "outputs": []
    },
    {
      "cell_type": "code",
      "metadata": {
        "trusted": true,
        "id": "nmYbbq25f-gZ"
      },
      "source": [
        "history = model.fit(x_train, y_train, \n",
        "                    epochs=100, \n",
        "                    batch_size=128, \n",
        "                    validation_data=(x_test, y_test),\n",
        "                    callbacks=cb)"
      ],
      "execution_count": null,
      "outputs": []
    },
    {
      "cell_type": "code",
      "metadata": {
        "trusted": true,
        "id": "YmzkwGp_f-gZ"
      },
      "source": [
        "preds = model.predict(test_x_final, batch_size=128)"
      ],
      "execution_count": null,
      "outputs": []
    },
    {
      "cell_type": "code",
      "metadata": {
        "trusted": true,
        "id": "9k0GqwUif-ga"
      },
      "source": [
        "preds.shape"
      ],
      "execution_count": null,
      "outputs": []
    },
    {
      "cell_type": "code",
      "metadata": {
        "trusted": true,
        "id": "-BVjt_LFf-ga"
      },
      "source": [
        "results = np.argmax(preds, axis=-1)\n",
        "results.shape"
      ],
      "execution_count": null,
      "outputs": []
    },
    {
      "cell_type": "code",
      "metadata": {
        "trusted": true,
        "id": "Rq_hNW3zf-ga"
      },
      "source": [
        "# submission\n",
        "sub = pd.read_csv(os.path.join(PATH, 'sample_submission.csv'))\n",
        "sub.head()\n",
        "df = pd.DataFrame({'ImageId': sub['ImageId'], 'Label': results})\n",
        "df.to_csv('submission.csv', index=False)\n",
        "os.listdir('./')"
      ],
      "execution_count": null,
      "outputs": []
    }
  ]
}