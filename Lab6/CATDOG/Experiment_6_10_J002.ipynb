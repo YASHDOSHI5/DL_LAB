{
  "nbformat": 4,
  "nbformat_minor": 0,
  "metadata": {
    "kernelspec": {
      "display_name": "Python 3",
      "language": "python",
      "name": "python3"
    },
    "language_info": {
      "name": "python",
      "version": "3.6.4",
      "mimetype": "text/x-python",
      "codemirror_mode": {
        "name": "ipython",
        "version": 3
      },
      "pygments_lexer": "ipython3",
      "nbconvert_exporter": "python",
      "file_extension": ".py"
    },
    "colab": {
      "name": "Copy of cat-and-dog-classifier-using-vgg16-model.ipynb",
      "provenance": []
    },
    "accelerator": "GPU"
  },
  "cells": [
    {
      "cell_type": "code",
      "metadata": {
        "_uuid": "8f2839f25d086af736a60e9eeb907d3b93b6e0e5",
        "_cell_guid": "b1076dfc-b9ad-4769-8c92-a6c4dae69d19",
        "trusted": true,
        "collapsed": true,
        "id": "c27SKbYycipL"
      },
      "source": [
        "import os\n",
        "import sys\n",
        "import datetime\n",
        "import glob as glob\n",
        "import numpy as np\n",
        "import cv2\n",
        "import keras\n",
        "from keras.applications.vgg16 import VGG16, preprocess_input\n",
        "from keras.models import Model\n",
        "from keras.layers import Dense, GlobalAveragePooling2D\n",
        "from keras.preprocessing.image import ImageDataGenerator, array_to_img, img_to_array, load_img\n",
        "from keras.optimizers import SGD\n",
        "import tensorflow\n",
        "from scipy.interpolate import spline\n",
        "import pandas as pd\n",
        "import matplotlib.pyplot as plt\n",
        "%matplotlib inline"
      ],
      "execution_count": null,
      "outputs": []
    },
    {
      "cell_type": "code",
      "metadata": {
        "_cell_guid": "79c7e3d0-c299-4dcb-8224-4455121ee9b0",
        "_uuid": "d629ff2d2480ee46fbb7e2d37f6b5fab8052498a",
        "trusted": true,
        "id": "K_eEB7wocipg"
      },
      "source": [
        "keras.__version__"
      ],
      "execution_count": null,
      "outputs": []
    },
    {
      "cell_type": "code",
      "metadata": {
        "trusted": true,
        "_uuid": "34c771b9e0a8cd330f0e085642762640b89f7410",
        "id": "kh5gLzQqcipi"
      },
      "source": [
        "tensorflow.__version__"
      ],
      "execution_count": null,
      "outputs": []
    },
    {
      "cell_type": "code",
      "metadata": {
        "trusted": true,
        "_uuid": "7a458f418c71c745a638bf98ff96eb663422caa2",
        "collapsed": true,
        "id": "330Wbb-rcipj"
      },
      "source": [
        "datagen = ImageDataGenerator(\n",
        "    rotation_range = 20,\n",
        "    width_shift_range = 0.2,\n",
        "    height_shift_range = 0.2,\n",
        "    shear_range = 0.2,\n",
        "    zoom_range = 0.2,\n",
        "    horizontal_flip = True,\n",
        "    fill_mode = 'nearest')"
      ],
      "execution_count": null,
      "outputs": []
    },
    {
      "cell_type": "code",
      "metadata": {
        "trusted": true,
        "_uuid": "86bfdd91c20ec52fc0b841e7cd8f439ed0b17c14",
        "id": "jV6kFaoBcipk"
      },
      "source": [
        "img = load_img('../input/cat-and-dog/training_set/training_set/cats/cat.1.jpg')\n",
        "plt.figure(figsize = (3,3))\n",
        "plt.imshow(img)\n",
        "plt.axis('off')\n",
        "plt.title('Nimesh Cat')\n",
        "plt.show()"
      ],
      "execution_count": null,
      "outputs": []
    },
    {
      "cell_type": "code",
      "metadata": {
        "trusted": true,
        "_uuid": "eb5f512b3d675704470d6815630f796858822ad6",
        "collapsed": true,
        "id": "-fbYtV81cipl"
      },
      "source": [
        "x = img_to_array(img)\n",
        "x2 = x.reshape((1,) + x.shape)"
      ],
      "execution_count": null,
      "outputs": []
    },
    {
      "cell_type": "code",
      "metadata": {
        "trusted": true,
        "_uuid": "d5d1d05a8eca038e08e10d6d480a5cb2ef1735ab",
        "id": "YCrXNEJmcipm"
      },
      "source": [
        "i = 0\n",
        "fig = plt.figure(figsize = (6,6))\n",
        "plt.title('Pre-processed')\n",
        "for batch in datagen.flow(x2, batch_size = 1):\n",
        "    i += 1\n",
        "    if i > 9:\n",
        "        break\n",
        "    temp = batch.reshape(x.shape)\n",
        "    plt.subplot(3, 3, i)\n",
        "    plt.imshow(temp.astype('uint8'))\n",
        "    plt.axis('off')\n",
        "plt.show()"
      ],
      "execution_count": null,
      "outputs": []
    },
    {
      "cell_type": "code",
      "metadata": {
        "trusted": true,
        "_uuid": "1e7cfa35a7ca5f219618e43b1be45efb37cee387",
        "id": "vUtV3vQXcipn"
      },
      "source": [
        "img = load_img('../input/cat-and-dog/training_set/training_set/dogs/dog.1.jpg')\n",
        "plt.figure(figsize = (3,3))\n",
        "plt.imshow(img)\n",
        "plt.axis('off')\n",
        "plt.title('Nimesh Dog')\n",
        "plt.show()"
      ],
      "execution_count": null,
      "outputs": []
    },
    {
      "cell_type": "code",
      "metadata": {
        "trusted": true,
        "collapsed": true,
        "_uuid": "b37f285f923403c1bdebab7763e2d95420060184",
        "id": "IyUvX4uocipo"
      },
      "source": [
        "# default settings\n",
        "img_width, img_height = 224, 224\n",
        "\n",
        "train_dir = '../input/cat-and-dog/training_set/training_set'\n",
        "validate_dir = '../input/cat-and-dog/test_set/test_set/'\n",
        "nb_epochs = 2\n",
        "batch_size = 1\n",
        "nb_classes = len(glob.glob(train_dir + '/*'))"
      ],
      "execution_count": null,
      "outputs": []
    },
    {
      "cell_type": "code",
      "metadata": {
        "trusted": true,
        "_uuid": "9c303db59a3a20877418b90e9732cfa4ab0caf62",
        "id": "fqlTbAq_cipp"
      },
      "source": [
        "# get number of images in training directory\n",
        "nb_train_samples = 0\n",
        "for r, dirs, files in os.walk(train_dir):\n",
        "    for dr in dirs:\n",
        "        nb_train_samples += len(glob.glob(os.path.join(r, dr + \"/*\")))\n",
        "print(nb_train_samples)"
      ],
      "execution_count": null,
      "outputs": []
    },
    {
      "cell_type": "code",
      "metadata": {
        "trusted": true,
        "_uuid": "bb0374d2fdcef13abf2d99749a38e8d76f99f8f6",
        "id": "9_qjNUkwcipq"
      },
      "source": [
        "# get number of images in validation directory\n",
        "nb_validate_samples = 0\n",
        "for r, dirs, files in os.walk(validate_dir):\n",
        "    for dr in dirs:\n",
        "        nb_validate_samples += len(glob.glob(os.path.join(r, dr + \"/*\")))\n",
        "print(nb_validate_samples)"
      ],
      "execution_count": null,
      "outputs": []
    },
    {
      "cell_type": "code",
      "metadata": {
        "trusted": true,
        "collapsed": true,
        "_uuid": "c869ca401136fadad6ea04b7a0d0567cbf5009ba",
        "id": "M0jKaktscipr"
      },
      "source": [
        "\n",
        "# data pre-processing for training\n",
        "train_datagen =  ImageDataGenerator(\n",
        "    rescale = 1./255,\n",
        "    rotation_range = 20,\n",
        "    width_shift_range = 0.2,\n",
        "    height_shift_range = 0.2,\n",
        "    shear_range = 0.2,\n",
        "    zoom_range = 0.2,\n",
        "    fill_mode = 'nearest',\n",
        "    horizontal_flip = True)"
      ],
      "execution_count": null,
      "outputs": []
    },
    {
      "cell_type": "code",
      "metadata": {
        "trusted": true,
        "collapsed": true,
        "_uuid": "7e899352175a9a143330658a3cd9b99facb53604",
        "id": "MibP4m4lcips"
      },
      "source": [
        "# data pre-processing for validation\n",
        "validate_datagen =  ImageDataGenerator(\n",
        "    rescale = 1./255,\n",
        "    rotation_range = 20,\n",
        "    width_shift_range = 0.2,\n",
        "    height_shift_range = 0.2,\n",
        "    shear_range = 0.2,\n",
        "    zoom_range = 0.2,\n",
        "    fill_mode = 'nearest',\n",
        "    horizontal_flip = True)"
      ],
      "execution_count": null,
      "outputs": []
    },
    {
      "cell_type": "code",
      "metadata": {
        "trusted": true,
        "_uuid": "178d9471145509bc7ee581c363dae78716a4c744",
        "id": "RZN30Mp0cipt"
      },
      "source": [
        "# generate and store training data\n",
        "train_generator = train_datagen.flow_from_directory(\n",
        "    train_dir,\n",
        "    target_size = (img_width, img_height),\n",
        "    batch_size = batch_size)"
      ],
      "execution_count": null,
      "outputs": []
    },
    {
      "cell_type": "code",
      "metadata": {
        "trusted": true,
        "_uuid": "55b3b6efa80a7b8034d4875bbd9c4bc345004a03",
        "id": "56RPNEVicipv"
      },
      "source": [
        "\n",
        "# generate and store validation data\n",
        "validate_generator = validate_datagen.flow_from_directory(\n",
        "    validate_dir,\n",
        "    target_size = (img_width, img_height),\n",
        "    batch_size = batch_size)"
      ],
      "execution_count": null,
      "outputs": []
    },
    {
      "cell_type": "code",
      "metadata": {
        "trusted": true,
        "_uuid": "7160d7eb816109a54ca5184fd8191408e8f1632a",
        "id": "HXQiFQu-cipw"
      },
      "source": [
        "# this will copy the pretrained weights to our kernel\n",
        "!mkdir ~/.keras\n",
        "!mkdir ~/.keras/models\n",
        "!cp ../input/keras-pretrained-models/*notop* ~/.keras/models/\n",
        "!cp ../input/keras-pretrained-models/imagenet_class_index.json ~/.keras/models/"
      ],
      "execution_count": null,
      "outputs": []
    },
    {
      "cell_type": "code",
      "metadata": {
        "trusted": true,
        "_uuid": "cace34f3ad0e3394e0ae6d48eb15cece594cd825",
        "id": "ICP4JpOHcipx"
      },
      "source": [
        "# set up transfer learning on pre-trained ImageNet VGG16 model - remove fully connected layer and replace\n",
        "# with softmax for classifying 10 classes\n",
        "vgg16_model = VGG16(weights = 'imagenet', include_top = False)\n",
        "x = vgg16_model.output\n",
        "x = GlobalAveragePooling2D()(x)\n",
        "x = Dense(1024, activation='relu')(x)\n",
        "predictions = Dense(nb_classes, activation = 'softmax')(x)\n",
        "model = Model(input = vgg16_model.input, output = predictions)"
      ],
      "execution_count": null,
      "outputs": []
    },
    {
      "cell_type": "code",
      "metadata": {
        "trusted": true,
        "collapsed": true,
        "_uuid": "9e5b4a3f2bc79311fe526aa2a393680b37abdaa3",
        "id": "RR4Uu02_cipy"
      },
      "source": [
        "# freeze all layers of the pre-trained model\n",
        "for layer in vgg16_model.layers:\n",
        "    layer.trainable = False"
      ],
      "execution_count": null,
      "outputs": []
    },
    {
      "cell_type": "code",
      "metadata": {
        "trusted": true,
        "collapsed": true,
        "_uuid": "f14f821f56415f7788ba86afd55870e5d8fbc4cf",
        "id": "LmqR1v3Dcipy"
      },
      "source": [
        "# compile the new model using a RMSProp optimizer\n",
        "model.compile(optimizer = 'rmsprop',\n",
        "    loss = 'categorical_crossentropy',\n",
        "    metrics = ['accuracy'])"
      ],
      "execution_count": null,
      "outputs": []
    },
    {
      "cell_type": "code",
      "metadata": {
        "trusted": true,
        "_uuid": "c5f349a5bf0f00a2cbec5cce11fca5279e5861ec",
        "id": "PYuPpmNscipz"
      },
      "source": [
        "# fit the model, log the results and the training time\n",
        "now = datetime.datetime.now\n",
        "t = now()\n",
        "transfer_learning_history = model.fit_generator(\n",
        "    train_generator,\n",
        "    nb_epoch = nb_epochs,\n",
        "    samples_per_epoch = nb_train_samples,\n",
        "    validation_data = validate_generator,\n",
        "    nb_val_samples = nb_validate_samples,\n",
        "    class_weight='auto')\n",
        "print('Training time: %s' % (now() - t))"
      ],
      "execution_count": null,
      "outputs": []
    },
    {
      "cell_type": "code",
      "metadata": {
        "trusted": true,
        "_uuid": "095a5d675f4369c9773a883a4e2205270f1019d2",
        "id": "2xJ6Uxc3cip0"
      },
      "source": [
        "# evaluate the performance the new model and report the results\n",
        "score = model.evaluate_generator(validate_generator, nb_validate_samples/batch_size)\n",
        "print(\"Test Score:\", score[0])\n",
        "print(\"Test Accuracy:\", score[1])"
      ],
      "execution_count": null,
      "outputs": []
    },
    {
      "cell_type": "code",
      "metadata": {
        "trusted": true,
        "collapsed": true,
        "_uuid": "8960f81439c3f940602bb3f4e92a226a3f060c9b",
        "id": "0LYPkwFmcip0"
      },
      "source": [
        "# save transfer learning model for offline prediction purposes\n",
        "model.save('dogsandcat_vgg16_model_tl.h5')"
      ],
      "execution_count": null,
      "outputs": []
    },
    {
      "cell_type": "code",
      "metadata": {
        "trusted": true,
        "_uuid": "8e79fe61de3369c899311df81d7d54df798b35d4",
        "id": "hhVum3PDcip1"
      },
      "source": [
        "xfer_acc = transfer_learning_history.history['acc']\n",
        "val_acc = transfer_learning_history.history['val_acc']\n",
        "xfer_loss = transfer_learning_history.history['loss']\n",
        "val_loss = transfer_learning_history.history['val_loss']\n",
        "epochs = range(len(xfer_acc))\n",
        "\n",
        "x = np.array(epochs)\n",
        "y = np.array(xfer_acc)\n",
        "x_smooth = np.linspace(x.min(), x.max(), 500)\n",
        "y_smooth = spline(x, y, x_smooth)\n",
        "plt.plot(x_smooth, y_smooth, 'r-', label = 'Training')\n",
        "\n",
        "x1 = np.array(epochs)\n",
        "y1 = np.array(val_acc)\n",
        "x1_smooth = np.linspace(x1.min(), x1.max(), 500)\n",
        "y1_smooth = spline(x1, y1, x1_smooth)\n",
        "\n",
        "plt.plot(x1_smooth, y1_smooth, 'g-', label = 'Validation')\n",
        "plt.title('Transfer Learning - Training and Validation Accuracy')\n",
        "plt.legend(loc = 'lower left', fontsize = 9)\n",
        "plt.xlabel('Epochs')\n",
        "plt.ylabel('Accuracy')\n",
        "plt.ylim(0,1.05)\n",
        "\n",
        "plt.figure()\n",
        "x = np.array(epochs)\n",
        "y = np.array(xfer_loss)\n",
        "x_smooth = np.linspace(x.min(), x.max(), 500)\n",
        "y_smooth = spline(x, y, x_smooth)\n",
        "plt.plot(x_smooth, y_smooth, 'r-', label = 'Training')\n",
        "\n",
        "x1 = np.array(epochs)\n",
        "y1 = np.array(val_loss)\n",
        "x1_smooth = np.linspace(x1.min(), x1.max(), 500)\n",
        "y1_smooth = spline(x1, y1, x1_smooth)\n",
        "\n",
        "plt.plot(x1_smooth, y1_smooth, 'g-', label = 'Validation')\n",
        "plt.title('Transfer Learning - Training and Validation Loss')\n",
        "plt.legend(loc = 'upper right', fontsize = 9)\n",
        "plt.xlabel('Epochs')\n",
        "plt.ylabel('Loss')\n",
        "plt.ylim(0,max(y1))\n",
        "plt.show()"
      ],
      "execution_count": null,
      "outputs": []
    },
    {
      "cell_type": "code",
      "metadata": {
        "trusted": true,
        "_uuid": "f4a20feadec64f54681196895feb70bf3d019ddd",
        "id": "qnFTvn0ccip3"
      },
      "source": [
        "validate_generator.total_batches_seen"
      ],
      "execution_count": null,
      "outputs": []
    },
    {
      "cell_type": "code",
      "metadata": {
        "trusted": true,
        "_uuid": "14c16fff75a6aea0dca627a108cb61119f559fa9",
        "collapsed": true,
        "id": "Kn0epX2Vcip5"
      },
      "source": [
        "predict_files = glob.glob(\"../input/cat-and-dog/test_set/test_set/cats/*.jpg\")"
      ],
      "execution_count": null,
      "outputs": []
    },
    {
      "cell_type": "code",
      "metadata": {
        "trusted": true,
        "_uuid": "0ea29365957ffae15cef3753d0fb2cd761b491e5",
        "collapsed": true,
        "id": "Zq0yOF8Kcip6"
      },
      "source": [
        "im = cv2.imread(predict_files[0])\n",
        "im = cv2.cvtColor(im, cv2.COLOR_BGR2RGB)\n",
        "im = cv2.resize(im, (256, 256)).astype(np.float32)\n",
        "im = np.expand_dims(im, axis = 0)/255"
      ],
      "execution_count": null,
      "outputs": []
    },
    {
      "cell_type": "code",
      "metadata": {
        "trusted": true,
        "_uuid": "313077631287dc87a25fb113ebb1ca3f2489b66b",
        "collapsed": true,
        "id": "WeDx0AkScip6"
      },
      "source": [
        "\n",
        "predictor, image_id = [], []\n",
        "for i in predict_files:\n",
        "    im = cv2.imread(i)\n",
        "    im = cv2.resize(cv2.cvtColor(im, cv2.COLOR_BGR2RGB), (256, 256)).astype(np.float32) / 255.0\n",
        "    im = np.expand_dims(im, axis =0)\n",
        "    outcome = [np.argmax(model.predict(im))]\n",
        "    predictor.extend(list(outcome))\n",
        "    image_id.extend([i.rsplit(\"\\\\\")[-1]])\n"
      ],
      "execution_count": null,
      "outputs": []
    },
    {
      "cell_type": "code",
      "metadata": {
        "trusted": true,
        "_uuid": "5d19ed403ba48904d7697e7ba51674dd21bd6f3d",
        "id": "EIekQmpMcip7"
      },
      "source": [
        "final = pd.DataFrame()\n",
        "final[\"id\"] = image_id\n",
        "final[\"Cats\"] = predictor \n",
        "final.head(100)"
      ],
      "execution_count": null,
      "outputs": []
    },
    {
      "cell_type": "code",
      "metadata": {
        "trusted": true,
        "collapsed": true,
        "_uuid": "9c0c68515b341c3e21423331adfa8cff9edba621",
        "id": "63ApoNzQcip8"
      },
      "source": [
        "classes = train_generator.class_indices\n",
        "classes = {value : key for key, value in classes.items()}"
      ],
      "execution_count": null,
      "outputs": []
    },
    {
      "cell_type": "code",
      "metadata": {
        "trusted": true,
        "_uuid": "2c974ebcedb12172eda2b2f7074f13d005475c46",
        "id": "UNHmX-szcip9"
      },
      "source": [
        "final[\"Cats\"] = final[\"Cats\"].apply(lambda x: classes[x])\n",
        "final.head(100)"
      ],
      "execution_count": null,
      "outputs": []
    },
    {
      "cell_type": "code",
      "metadata": {
        "trusted": true,
        "_uuid": "a1e5aa96010265087dff5374fa7a147fdd38d6a2",
        "id": "UiyXKUafcip9"
      },
      "source": [
        "final.to_csv(\"csv/dogsandcats_with_pretrained_vgg16_model_tl_test.csv\", index = False)"
      ],
      "execution_count": null,
      "outputs": []
    },
    {
      "cell_type": "code",
      "metadata": {
        "trusted": true,
        "collapsed": true,
        "_uuid": "6fcb6a37f96851c8c39c1107f5de7146a6247b0e",
        "id": "AebW15A0cip-"
      },
      "source": [
        ""
      ],
      "execution_count": null,
      "outputs": []
    }
  ]
}